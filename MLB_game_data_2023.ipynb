{
 "cells": [
  {
   "cell_type": "code",
   "execution_count": 1,
   "metadata": {},
   "outputs": [],
   "source": [
    "import pandas as pd\n",
    "import requests\n",
    "import numpy as np\n",
    "from operator import delitem\n",
    "import csv"
   ]
  },
  {
   "cell_type": "code",
   "execution_count": 2,
   "metadata": {},
   "outputs": [],
   "source": [
    "url = \"https://v1.baseball.api-sports.io/games?league=1&season=2023\"\n",
    "\n",
    "payload={}\n",
    "headers = {\n",
    "  'x-rapidapi-key': '1ae57e7a748cd2bb05d6fd7321c4747a',\n",
    "  'x-rapidapi-host': 'v1.baseball.api-sports.io'\n",
    "}\n",
    "\n",
    "response = requests.request(\"GET\", url, headers=headers, data=payload)\n",
    "\n",
    "data = response.json()\n",
    "\n",
    "y = data.get('response')\n"
   ]
  },
  {
   "cell_type": "code",
   "execution_count": 3,
   "metadata": {},
   "outputs": [],
   "source": [
    "def game_results(num):\n",
    "  \n",
    "  y = data.get('response')\n",
    "  x = (y[num]).get('teams')\n",
    "\n",
    "  a = x.get('away')\n",
    "  b = x.get('home')\n",
    "\n",
    "  away_team = a.get('name')\n",
    "  home_team = b.get('name')\n",
    "\n",
    "\n",
    "  z = (y[num]).get('scores')\n",
    "\n",
    "  c = z.get(\"home\")\n",
    "  d = z.get('away')\n",
    "\n",
    "  home_score = c.get('total')\n",
    "  away_score = d.get('total')\n",
    "\n",
    "  date = (y[num]).get('date')\n",
    "\n",
    "\n",
    "\n",
    "  return(date, home_team,home_score, away_team, away_score)\n"
   ]
  },
  {
   "cell_type": "code",
   "execution_count": 4,
   "metadata": {},
   "outputs": [],
   "source": [
    "blank = pd.DataFrame(list())\n",
    "blank.to_csv('mlb_game_data_2023.csv')\n",
    "\n",
    "csv_file = open(\"mlb_game_data_2023.csv\", 'w')\n",
    "\n",
    "csv_writer = csv.writer(csv_file, delimiter=\",\")\n",
    "\n",
    "for i in range(len(y)):\n",
    "  csv_writer.writerow(game_results(i))\n",
    "\n",
    "csv_file.close()"
   ]
  },
  {
   "cell_type": "code",
   "execution_count": 5,
   "metadata": {},
   "outputs": [],
   "source": [
    "df = pd.read_csv(\"mlb_game_data_2023.csv\")"
   ]
  },
  {
   "cell_type": "code",
   "execution_count": 6,
   "metadata": {},
   "outputs": [],
   "source": [
    "df.columns = ['date','home_team','home_runs','away_team','away_runs']\n",
    "df = df[468:].reset_index(drop=True).dropna(axis=0) # drop spring training and unplayed games"
   ]
  },
  {
   "cell_type": "code",
   "execution_count": 7,
   "metadata": {},
   "outputs": [],
   "source": [
    "def format_date(string):\n",
    "    string = string[0:10]\n",
    "    return string"
   ]
  },
  {
   "cell_type": "code",
   "execution_count": 8,
   "metadata": {},
   "outputs": [],
   "source": [
    "df['date'] = df['date'].apply(format_date)"
   ]
  },
  {
   "cell_type": "code",
   "execution_count": 42,
   "metadata": {},
   "outputs": [],
   "source": [
    "df.to_csv(\"/home/luke/projects/blog/mlb_game_data_2023.csv\",sep=',')"
   ]
  },
  {
   "cell_type": "markdown",
   "metadata": {},
   "source": []
  },
  {
   "cell_type": "code",
   "execution_count": null,
   "metadata": {},
   "outputs": [],
   "source": []
  },
  {
   "cell_type": "code",
   "execution_count": null,
   "metadata": {},
   "outputs": [],
   "source": []
  },
  {
   "cell_type": "code",
   "execution_count": null,
   "metadata": {},
   "outputs": [],
   "source": []
  },
  {
   "cell_type": "code",
   "execution_count": null,
   "metadata": {},
   "outputs": [],
   "source": []
  }
 ],
 "metadata": {
  "kernelspec": {
   "display_name": "Python 3",
   "language": "python",
   "name": "python3"
  },
  "language_info": {
   "codemirror_mode": {
    "name": "ipython",
    "version": 3
   },
   "file_extension": ".py",
   "mimetype": "text/x-python",
   "name": "python",
   "nbconvert_exporter": "python",
   "pygments_lexer": "ipython3",
   "version": "3.10.6"
  },
  "orig_nbformat": 4
 },
 "nbformat": 4,
 "nbformat_minor": 2
}
