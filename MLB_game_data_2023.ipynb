{
 "cells": [
  {
   "cell_type": "code",
   "execution_count": 1,
   "metadata": {},
   "outputs": [],
   "source": [
    "import pandas as pd\n",
    "import requests\n",
    "import numpy as np\n",
    "from operator import delitem\n",
    "import csv"
   ]
  },
  {
   "cell_type": "code",
   "execution_count": 2,
   "metadata": {},
   "outputs": [],
   "source": [
    "url = \"https://v1.baseball.api-sports.io/games?league=1&season=2023\"\n",
    "\n",
    "payload={}\n",
    "headers = {\n",
    "  'x-rapidapi-key': '1ae57e7a748cd2bb05d6fd7321c4747a',\n",
    "  'x-rapidapi-host': 'v1.baseball.api-sports.io'\n",
    "}\n",
    "\n",
    "response = requests.request(\"GET\", url, headers=headers, data=payload)\n",
    "\n",
    "data = response.json()\n",
    "\n",
    "y = data.get('response')\n"
   ]
  },
  {
   "cell_type": "code",
   "execution_count": 3,
   "metadata": {},
   "outputs": [],
   "source": [
    "def game_results(num):\n",
    "  \n",
    "  y = data.get('response')\n",
    "  x = (y[num]).get('teams')\n",
    "\n",
    "  a = x.get('away')\n",
    "  b = x.get('home')\n",
    "\n",
    "  away_team = a.get('name')\n",
    "  home_team = b.get('name')\n",
    "\n",
    "\n",
    "  z = (y[num]).get('scores')\n",
    "\n",
    "  c = z.get(\"home\")\n",
    "  d = z.get('away')\n",
    "\n",
    "  home_score = c.get('total')\n",
    "  away_score = d.get('total')\n",
    "\n",
    "  date = (y[num]).get('date')\n",
    "\n",
    "\n",
    "\n",
    "  return(date, home_team,home_score, away_team, away_score)\n"
   ]
  },
  {
   "cell_type": "code",
   "execution_count": 4,
   "metadata": {},
   "outputs": [],
   "source": [
    "blank = pd.DataFrame(list())\n",
    "blank.to_csv('mlb_game_data_2023.csv')\n",
    "\n",
    "csv_file = open(\"mlb_game_data_2023.csv\", 'w')\n",
    "\n",
    "csv_writer = csv.writer(csv_file, delimiter=\",\")\n",
    "\n",
    "for i in range(len(y)):\n",
    "  csv_writer.writerow(game_results(i))\n",
    "\n",
    "csv_file.close()"
   ]
  },
  {
   "cell_type": "code",
   "execution_count": 5,
   "metadata": {},
   "outputs": [],
   "source": [
    "df = pd.read_csv(\"mlb_game_data_2023.csv\")"
   ]
  },
  {
   "cell_type": "code",
   "execution_count": 6,
   "metadata": {},
   "outputs": [],
   "source": [
    "df.columns = ['date','home_team','home_runs','away_team','away_runs']\n",
    "df = df[468:].reset_index(drop=True).dropna(axis=0) # drop spring training and unplayed games"
   ]
  },
  {
   "cell_type": "code",
   "execution_count": 7,
   "metadata": {},
   "outputs": [],
   "source": [
    "def resize(string):\n",
    "    string = string[0:10]\n",
    "    return string"
   ]
  },
  {
   "cell_type": "code",
   "execution_count": 8,
   "metadata": {},
   "outputs": [],
   "source": [
    "df['date'] = df['date'].apply(resize)"
   ]
  },
  {
   "cell_type": "code",
   "execution_count": 9,
   "metadata": {},
   "outputs": [
    {
     "data": {
      "text/html": [
       "<div>\n",
       "<style scoped>\n",
       "    .dataframe tbody tr th:only-of-type {\n",
       "        vertical-align: middle;\n",
       "    }\n",
       "\n",
       "    .dataframe tbody tr th {\n",
       "        vertical-align: top;\n",
       "    }\n",
       "\n",
       "    .dataframe thead th {\n",
       "        text-align: right;\n",
       "    }\n",
       "</style>\n",
       "<table border=\"1\" class=\"dataframe\">\n",
       "  <thead>\n",
       "    <tr style=\"text-align: right;\">\n",
       "      <th></th>\n",
       "      <th>date</th>\n",
       "      <th>home_team</th>\n",
       "      <th>home_runs</th>\n",
       "      <th>away_team</th>\n",
       "      <th>away_runs</th>\n",
       "    </tr>\n",
       "  </thead>\n",
       "  <tbody>\n",
       "    <tr>\n",
       "      <th>0</th>\n",
       "      <td>2023-03-30</td>\n",
       "      <td>New York Yankees</td>\n",
       "      <td>5.0</td>\n",
       "      <td>San Francisco Giants</td>\n",
       "      <td>0.0</td>\n",
       "    </tr>\n",
       "    <tr>\n",
       "      <th>1</th>\n",
       "      <td>2023-03-30</td>\n",
       "      <td>Boston Red Sox</td>\n",
       "      <td>9.0</td>\n",
       "      <td>Baltimore Orioles</td>\n",
       "      <td>10.0</td>\n",
       "    </tr>\n",
       "    <tr>\n",
       "      <th>2</th>\n",
       "      <td>2023-03-30</td>\n",
       "      <td>Chicago Cubs</td>\n",
       "      <td>4.0</td>\n",
       "      <td>Milwaukee Brewers</td>\n",
       "      <td>0.0</td>\n",
       "    </tr>\n",
       "    <tr>\n",
       "      <th>3</th>\n",
       "      <td>2023-03-30</td>\n",
       "      <td>Tampa Bay Rays</td>\n",
       "      <td>4.0</td>\n",
       "      <td>Detroit Tigers</td>\n",
       "      <td>0.0</td>\n",
       "    </tr>\n",
       "    <tr>\n",
       "      <th>4</th>\n",
       "      <td>2023-03-30</td>\n",
       "      <td>Texas Rangers</td>\n",
       "      <td>11.0</td>\n",
       "      <td>Philadelphia Phillies</td>\n",
       "      <td>7.0</td>\n",
       "    </tr>\n",
       "    <tr>\n",
       "      <th>...</th>\n",
       "      <td>...</td>\n",
       "      <td>...</td>\n",
       "      <td>...</td>\n",
       "      <td>...</td>\n",
       "      <td>...</td>\n",
       "    </tr>\n",
       "    <tr>\n",
       "      <th>91</th>\n",
       "      <td>2023-04-06</td>\n",
       "      <td>Kansas City Royals</td>\n",
       "      <td>3.0</td>\n",
       "      <td>Toronto Blue Jays</td>\n",
       "      <td>6.0</td>\n",
       "    </tr>\n",
       "    <tr>\n",
       "      <th>92</th>\n",
       "      <td>2023-04-06</td>\n",
       "      <td>Chicago White Sox</td>\n",
       "      <td>6.0</td>\n",
       "      <td>San Francisco Giants</td>\n",
       "      <td>16.0</td>\n",
       "    </tr>\n",
       "    <tr>\n",
       "      <th>93</th>\n",
       "      <td>2023-04-06</td>\n",
       "      <td>Colorado Rockies</td>\n",
       "      <td>1.0</td>\n",
       "      <td>Washington Nationals</td>\n",
       "      <td>0.0</td>\n",
       "    </tr>\n",
       "    <tr>\n",
       "      <th>94</th>\n",
       "      <td>2023-04-06</td>\n",
       "      <td>Atlanta Braves</td>\n",
       "      <td>7.0</td>\n",
       "      <td>San Diego Padres</td>\n",
       "      <td>6.0</td>\n",
       "    </tr>\n",
       "    <tr>\n",
       "      <th>95</th>\n",
       "      <td>2023-04-07</td>\n",
       "      <td>Arizona Diamondbacks</td>\n",
       "      <td>2.0</td>\n",
       "      <td>Los Angeles Dodgers</td>\n",
       "      <td>5.0</td>\n",
       "    </tr>\n",
       "  </tbody>\n",
       "</table>\n",
       "<p>96 rows × 5 columns</p>\n",
       "</div>"
      ],
      "text/plain": [
       "          date             home_team  home_runs              away_team  \\\n",
       "0   2023-03-30      New York Yankees        5.0   San Francisco Giants   \n",
       "1   2023-03-30        Boston Red Sox        9.0      Baltimore Orioles   \n",
       "2   2023-03-30          Chicago Cubs        4.0      Milwaukee Brewers   \n",
       "3   2023-03-30        Tampa Bay Rays        4.0         Detroit Tigers   \n",
       "4   2023-03-30         Texas Rangers       11.0  Philadelphia Phillies   \n",
       "..         ...                   ...        ...                    ...   \n",
       "91  2023-04-06    Kansas City Royals        3.0      Toronto Blue Jays   \n",
       "92  2023-04-06     Chicago White Sox        6.0   San Francisco Giants   \n",
       "93  2023-04-06      Colorado Rockies        1.0   Washington Nationals   \n",
       "94  2023-04-06        Atlanta Braves        7.0       San Diego Padres   \n",
       "95  2023-04-07  Arizona Diamondbacks        2.0    Los Angeles Dodgers   \n",
       "\n",
       "    away_runs  \n",
       "0         0.0  \n",
       "1        10.0  \n",
       "2         0.0  \n",
       "3         0.0  \n",
       "4         7.0  \n",
       "..        ...  \n",
       "91        6.0  \n",
       "92       16.0  \n",
       "93        0.0  \n",
       "94        6.0  \n",
       "95        5.0  \n",
       "\n",
       "[96 rows x 5 columns]"
      ]
     },
     "execution_count": 9,
     "metadata": {},
     "output_type": "execute_result"
    }
   ],
   "source": [
    "df"
   ]
  },
  {
   "cell_type": "code",
   "execution_count": 42,
   "metadata": {},
   "outputs": [],
   "source": [
    "df.to_csv(\"/home/luke/projects/blog/mlb_game_data_2023.csv\",sep=',')"
   ]
  },
  {
   "cell_type": "code",
   "execution_count": null,
   "metadata": {},
   "outputs": [],
   "source": []
  },
  {
   "cell_type": "code",
   "execution_count": null,
   "metadata": {},
   "outputs": [],
   "source": []
  },
  {
   "cell_type": "code",
   "execution_count": null,
   "metadata": {},
   "outputs": [],
   "source": []
  },
  {
   "cell_type": "code",
   "execution_count": null,
   "metadata": {},
   "outputs": [],
   "source": []
  }
 ],
 "metadata": {
  "kernelspec": {
   "display_name": "Python 3",
   "language": "python",
   "name": "python3"
  },
  "language_info": {
   "codemirror_mode": {
    "name": "ipython",
    "version": 3
   },
   "file_extension": ".py",
   "mimetype": "text/x-python",
   "name": "python",
   "nbconvert_exporter": "python",
   "pygments_lexer": "ipython3",
   "version": "3.10.6"
  },
  "orig_nbformat": 4
 },
 "nbformat": 4,
 "nbformat_minor": 2
}
